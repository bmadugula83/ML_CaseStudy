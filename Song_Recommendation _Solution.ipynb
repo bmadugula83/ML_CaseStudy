{
 "cells": [
  {
   "cell_type": "code",
   "execution_count": 1,
   "metadata": {},
   "outputs": [],
   "source": [
    "import numpy as np\n",
    "import pandas as pd\n",
    "import matplotlib.pyplot as plt\n",
    "import seaborn as sns\n",
    "from sklearn.neighbors import NearestNeighbors\n",
    "import scipy.sparse\n",
    "from scipy.sparse import csr_matrix"
   ]
  },
  {
   "cell_type": "code",
   "execution_count": 2,
   "metadata": {},
   "outputs": [],
   "source": [
    "data = pd.read_table('10000.txt', names=['user_id', 'song_id', 'listen_count'])\n",
    "song_data = pd.read_csv('song_data.csv')"
   ]
  },
  {
   "cell_type": "code",
   "execution_count": 3,
   "metadata": {},
   "outputs": [
    {
     "data": {
      "text/html": [
       "<div>\n",
       "<style scoped>\n",
       "    .dataframe tbody tr th:only-of-type {\n",
       "        vertical-align: middle;\n",
       "    }\n",
       "\n",
       "    .dataframe tbody tr th {\n",
       "        vertical-align: top;\n",
       "    }\n",
       "\n",
       "    .dataframe thead th {\n",
       "        text-align: right;\n",
       "    }\n",
       "</style>\n",
       "<table border=\"1\" class=\"dataframe\">\n",
       "  <thead>\n",
       "    <tr style=\"text-align: right;\">\n",
       "      <th></th>\n",
       "      <th>user_id</th>\n",
       "      <th>song_id</th>\n",
       "      <th>listen_count</th>\n",
       "    </tr>\n",
       "  </thead>\n",
       "  <tbody>\n",
       "    <tr>\n",
       "      <th>0</th>\n",
       "      <td>b80344d063b5ccb3212f76538f3d9e43d87dca9e</td>\n",
       "      <td>SOAKIMP12A8C130995</td>\n",
       "      <td>1</td>\n",
       "    </tr>\n",
       "    <tr>\n",
       "      <th>1</th>\n",
       "      <td>b80344d063b5ccb3212f76538f3d9e43d87dca9e</td>\n",
       "      <td>SOBBMDR12A8C13253B</td>\n",
       "      <td>2</td>\n",
       "    </tr>\n",
       "    <tr>\n",
       "      <th>2</th>\n",
       "      <td>b80344d063b5ccb3212f76538f3d9e43d87dca9e</td>\n",
       "      <td>SOBXHDL12A81C204C0</td>\n",
       "      <td>1</td>\n",
       "    </tr>\n",
       "    <tr>\n",
       "      <th>3</th>\n",
       "      <td>b80344d063b5ccb3212f76538f3d9e43d87dca9e</td>\n",
       "      <td>SOBYHAJ12A6701BF1D</td>\n",
       "      <td>1</td>\n",
       "    </tr>\n",
       "    <tr>\n",
       "      <th>4</th>\n",
       "      <td>b80344d063b5ccb3212f76538f3d9e43d87dca9e</td>\n",
       "      <td>SODACBL12A8C13C273</td>\n",
       "      <td>1</td>\n",
       "    </tr>\n",
       "  </tbody>\n",
       "</table>\n",
       "</div>"
      ],
      "text/plain": [
       "                                    user_id             song_id  listen_count\n",
       "0  b80344d063b5ccb3212f76538f3d9e43d87dca9e  SOAKIMP12A8C130995             1\n",
       "1  b80344d063b5ccb3212f76538f3d9e43d87dca9e  SOBBMDR12A8C13253B             2\n",
       "2  b80344d063b5ccb3212f76538f3d9e43d87dca9e  SOBXHDL12A81C204C0             1\n",
       "3  b80344d063b5ccb3212f76538f3d9e43d87dca9e  SOBYHAJ12A6701BF1D             1\n",
       "4  b80344d063b5ccb3212f76538f3d9e43d87dca9e  SODACBL12A8C13C273             1"
      ]
     },
     "execution_count": 3,
     "metadata": {},
     "output_type": "execute_result"
    }
   ],
   "source": [
    "data.head()"
   ]
  },
  {
   "cell_type": "code",
   "execution_count": 4,
   "metadata": {},
   "outputs": [
    {
     "data": {
      "text/plain": [
       "<matplotlib.axes._subplots.AxesSubplot at 0x2478a81f108>"
      ]
     },
     "execution_count": 4,
     "metadata": {},
     "output_type": "execute_result"
    },
    {
     "data": {
      "image/png": "[encoded data removed]",
      "text/plain": [
       "<Figure size 432x288 with 1 Axes>"
      ]
     },
     "metadata": {
      "needs_background": "light"
     },
     "output_type": "display_data"
    }
   ],
   "source": [
    "data.listen_count.value_counts()[data.listen_count.value_counts()>100].hist()"
   ]
  },
  {
   "cell_type": "code",
   "execution_count": 5,
   "metadata": {},
   "outputs": [
    {
     "data": {
      "text/html": [
       "<div>\n",
       "<style scoped>\n",
       "    .dataframe tbody tr th:only-of-type {\n",
       "        vertical-align: middle;\n",
       "    }\n",
       "\n",
       "    .dataframe tbody tr th {\n",
       "        vertical-align: top;\n",
       "    }\n",
       "\n",
       "    .dataframe thead th {\n",
       "        text-align: right;\n",
       "    }\n",
       "</style>\n",
       "<table border=\"1\" class=\"dataframe\">\n",
       "  <thead>\n",
       "    <tr style=\"text-align: right;\">\n",
       "      <th></th>\n",
       "      <th>count</th>\n",
       "      <th>unique</th>\n",
       "      <th>top</th>\n",
       "      <th>freq</th>\n",
       "      <th>mean</th>\n",
       "      <th>std</th>\n",
       "      <th>min</th>\n",
       "      <th>25%</th>\n",
       "      <th>50%</th>\n",
       "      <th>75%</th>\n",
       "      <th>max</th>\n",
       "    </tr>\n",
       "  </thead>\n",
       "  <tbody>\n",
       "    <tr>\n",
       "      <th>user_id</th>\n",
       "      <td>2000000</td>\n",
       "      <td>76353</td>\n",
       "      <td>6d625c6557df84b60d90426c0116138b617b9449</td>\n",
       "      <td>711</td>\n",
       "      <td>NaN</td>\n",
       "      <td>NaN</td>\n",
       "      <td>NaN</td>\n",
       "      <td>NaN</td>\n",
       "      <td>NaN</td>\n",
       "      <td>NaN</td>\n",
       "      <td>NaN</td>\n",
       "    </tr>\n",
       "    <tr>\n",
       "      <th>song_id</th>\n",
       "      <td>2000000</td>\n",
       "      <td>10000</td>\n",
       "      <td>SOFRQTD12A81C233C0</td>\n",
       "      <td>8277</td>\n",
       "      <td>NaN</td>\n",
       "      <td>NaN</td>\n",
       "      <td>NaN</td>\n",
       "      <td>NaN</td>\n",
       "      <td>NaN</td>\n",
       "      <td>NaN</td>\n",
       "      <td>NaN</td>\n",
       "    </tr>\n",
       "    <tr>\n",
       "      <th>listen_count</th>\n",
       "      <td>2000000.0</td>\n",
       "      <td>NaN</td>\n",
       "      <td>NaN</td>\n",
       "      <td>NaN</td>\n",
       "      <td>3.045485</td>\n",
       "      <td>6.57972</td>\n",
       "      <td>1.0</td>\n",
       "      <td>1.0</td>\n",
       "      <td>1.0</td>\n",
       "      <td>3.0</td>\n",
       "      <td>2213.0</td>\n",
       "    </tr>\n",
       "  </tbody>\n",
       "</table>\n",
       "</div>"
      ],
      "text/plain": [
       "                  count unique                                       top  \\\n",
       "user_id         2000000  76353  6d625c6557df84b60d90426c0116138b617b9449   \n",
       "song_id         2000000  10000                        SOFRQTD12A81C233C0   \n",
       "listen_count  2000000.0    NaN                                       NaN   \n",
       "\n",
       "              freq      mean      std  min  25%  50%  75%     max  \n",
       "user_id        711       NaN      NaN  NaN  NaN  NaN  NaN     NaN  \n",
       "song_id       8277       NaN      NaN  NaN  NaN  NaN  NaN     NaN  \n",
       "listen_count   NaN  3.045485  6.57972  1.0  1.0  1.0  3.0  2213.0  "
      ]
     },
     "execution_count": 5,
     "metadata": {},
     "output_type": "execute_result"
    }
   ],
   "source": [
    "data.describe(include='all').T"
   ]
  },
  {
   "cell_type": "code",
   "execution_count": 6,
   "metadata": {},
   "outputs": [
    {
     "name": "stdout",
     "output_type": "stream",
     "text": [
      "<class 'pandas.core.frame.DataFrame'>\n",
      "RangeIndex: 2000000 entries, 0 to 1999999\n",
      "Data columns (total 3 columns):\n",
      " #   Column        Dtype \n",
      "---  ------        ----- \n",
      " 0   user_id       object\n",
      " 1   song_id       object\n",
      " 2   listen_count  int64 \n",
      "dtypes: int64(1), object(2)\n",
      "memory usage: 45.8+ MB\n"
     ]
    }
   ],
   "source": [
    "data.info()"
   ]
  },
  {
   "cell_type": "code",
   "execution_count": 7,
   "metadata": {},
   "outputs": [
    {
     "data": {
      "text/html": [
       "<div>\n",
       "<style scoped>\n",
       "    .dataframe tbody tr th:only-of-type {\n",
       "        vertical-align: middle;\n",
       "    }\n",
       "\n",
       "    .dataframe tbody tr th {\n",
       "        vertical-align: top;\n",
       "    }\n",
       "\n",
       "    .dataframe thead th {\n",
       "        text-align: right;\n",
       "    }\n",
       "</style>\n",
       "<table border=\"1\" class=\"dataframe\">\n",
       "  <thead>\n",
       "    <tr style=\"text-align: right;\">\n",
       "      <th></th>\n",
       "      <th>user_id</th>\n",
       "      <th>song_id</th>\n",
       "      <th>listen_count</th>\n",
       "    </tr>\n",
       "  </thead>\n",
       "  <tbody>\n",
       "  </tbody>\n",
       "</table>\n",
       "</div>"
      ],
      "text/plain": [
       "Empty DataFrame\n",
       "Columns: [user_id, song_id, listen_count]\n",
       "Index: []"
      ]
     },
     "execution_count": 7,
     "metadata": {},
     "output_type": "execute_result"
    }
   ],
   "source": [
    "data[data.listen_count<1]"
   ]
  },
  {
   "cell_type": "code",
   "execution_count": 8,
   "metadata": {},
   "outputs": [],
   "source": [
    "#data_codes = data.copy(deep=True)"
   ]
  },
  {
   "cell_type": "code",
   "execution_count": 9,
   "metadata": {},
   "outputs": [],
   "source": [
    "#data_codes['user_id'] = data['user_id'].astype(\"category\").cat.codes\n",
    "\n",
    "#data_codes['song_id'] = data['song_id'].astype(\"category\").cat.codes"
   ]
  },
  {
   "cell_type": "code",
   "execution_count": 10,
   "metadata": {},
   "outputs": [],
   "source": [
    "users_50=np.array(data.groupby('user_id').count()[data.groupby('user_id').count()['song_id']>150].index)"
   ]
  },
  {
   "cell_type": "code",
   "execution_count": 11,
   "metadata": {},
   "outputs": [],
   "source": [
    "data = data.query('user_id in @users_50')"
   ]
  },
  {
   "cell_type": "code",
   "execution_count": 12,
   "metadata": {},
   "outputs": [],
   "source": [
    "data=data.drop_duplicates()"
   ]
  },
  {
   "cell_type": "code",
   "execution_count": 13,
   "metadata": {},
   "outputs": [],
   "source": [
    "song_data=song_data.drop_duplicates()"
   ]
  },
  {
   "cell_type": "code",
   "execution_count": 14,
   "metadata": {},
   "outputs": [
    {
     "data": {
      "text/plain": [
       "'Dog Days Are Over (Radio Edit)'"
      ]
     },
     "execution_count": 14,
     "metadata": {},
     "output_type": "execute_result"
    }
   ],
   "source": [
    "song_data[song_data.song_id == 'SOAXGDH12A8C13F8A1']['title'].values[0]"
   ]
  },
  {
   "cell_type": "code",
   "execution_count": 15,
   "metadata": {},
   "outputs": [
    {
     "data": {
      "text/html": [
       "<div>\n",
       "<style scoped>\n",
       "    .dataframe tbody tr th:only-of-type {\n",
       "        vertical-align: middle;\n",
       "    }\n",
       "\n",
       "    .dataframe tbody tr th {\n",
       "        vertical-align: top;\n",
       "    }\n",
       "\n",
       "    .dataframe thead th {\n",
       "        text-align: right;\n",
       "    }\n",
       "</style>\n",
       "<table border=\"1\" class=\"dataframe\">\n",
       "  <thead>\n",
       "    <tr style=\"text-align: right;\">\n",
       "      <th></th>\n",
       "      <th>user_id</th>\n",
       "      <th>song_id</th>\n",
       "      <th>listen_count</th>\n",
       "      <th>title</th>\n",
       "      <th>release</th>\n",
       "      <th>artist_name</th>\n",
       "      <th>year</th>\n",
       "    </tr>\n",
       "  </thead>\n",
       "  <tbody>\n",
       "    <tr>\n",
       "      <th>0</th>\n",
       "      <td>5a905f000fc1ff3df7ca807d57edb608863db05d</td>\n",
       "      <td>SOAFTRR12AF72A8D4D</td>\n",
       "      <td>1</td>\n",
       "      <td>Harder Better Faster Stronger</td>\n",
       "      <td>Discovery</td>\n",
       "      <td>Daft Punk</td>\n",
       "      <td>2007</td>\n",
       "    </tr>\n",
       "    <tr>\n",
       "      <th>1</th>\n",
       "      <td>a58de017cbeda1763ea002fe027ed41b4ed53109</td>\n",
       "      <td>SOAFTRR12AF72A8D4D</td>\n",
       "      <td>3</td>\n",
       "      <td>Harder Better Faster Stronger</td>\n",
       "      <td>Discovery</td>\n",
       "      <td>Daft Punk</td>\n",
       "      <td>2007</td>\n",
       "    </tr>\n",
       "    <tr>\n",
       "      <th>2</th>\n",
       "      <td>884209a41deb55df792f074bccf8af1c1c31768b</td>\n",
       "      <td>SOAFTRR12AF72A8D4D</td>\n",
       "      <td>1</td>\n",
       "      <td>Harder Better Faster Stronger</td>\n",
       "      <td>Discovery</td>\n",
       "      <td>Daft Punk</td>\n",
       "      <td>2007</td>\n",
       "    </tr>\n",
       "    <tr>\n",
       "      <th>3</th>\n",
       "      <td>c24ec42f0e449ff39a95a01f0795f833b898f71b</td>\n",
       "      <td>SOAFTRR12AF72A8D4D</td>\n",
       "      <td>1</td>\n",
       "      <td>Harder Better Faster Stronger</td>\n",
       "      <td>Discovery</td>\n",
       "      <td>Daft Punk</td>\n",
       "      <td>2007</td>\n",
       "    </tr>\n",
       "    <tr>\n",
       "      <th>4</th>\n",
       "      <td>1ee591a388274035a4fd8a4ae40a9589d320bb9d</td>\n",
       "      <td>SOAFTRR12AF72A8D4D</td>\n",
       "      <td>1</td>\n",
       "      <td>Harder Better Faster Stronger</td>\n",
       "      <td>Discovery</td>\n",
       "      <td>Daft Punk</td>\n",
       "      <td>2007</td>\n",
       "    </tr>\n",
       "    <tr>\n",
       "      <th>...</th>\n",
       "      <td>...</td>\n",
       "      <td>...</td>\n",
       "      <td>...</td>\n",
       "      <td>...</td>\n",
       "      <td>...</td>\n",
       "      <td>...</td>\n",
       "      <td>...</td>\n",
       "    </tr>\n",
       "    <tr>\n",
       "      <th>185483</th>\n",
       "      <td>7bc672d87d7fb01c57eb9ce32bfea2e50619a7b6</td>\n",
       "      <td>SOAMFRD12AF72A84BD</td>\n",
       "      <td>5</td>\n",
       "      <td>Fireworks</td>\n",
       "      <td>All Things To All People</td>\n",
       "      <td>Carpark North</td>\n",
       "      <td>2005</td>\n",
       "    </tr>\n",
       "    <tr>\n",
       "      <th>185484</th>\n",
       "      <td>17847f9b51594b8ae2da8b72215e3588604e8390</td>\n",
       "      <td>SOPPHII12A6701F35D</td>\n",
       "      <td>5</td>\n",
       "      <td>Untitled (Domestic Album Version)</td>\n",
       "      <td>Still Not Getting Any</td>\n",
       "      <td>Simple Plan</td>\n",
       "      <td>2004</td>\n",
       "    </tr>\n",
       "    <tr>\n",
       "      <th>185485</th>\n",
       "      <td>c65a346ab8f41fb56926b503ece810f358b0d241</td>\n",
       "      <td>SOLEMPP12A8AE4640B</td>\n",
       "      <td>1</td>\n",
       "      <td>Halo (Explicit Album Version)</td>\n",
       "      <td>The Blackening</td>\n",
       "      <td>Machine Head</td>\n",
       "      <td>0</td>\n",
       "    </tr>\n",
       "    <tr>\n",
       "      <th>185486</th>\n",
       "      <td>2078b23380f2a80615fb9829621f7dc6cc6c7a82</td>\n",
       "      <td>SOUZRZK12A8C13FF59</td>\n",
       "      <td>1</td>\n",
       "      <td>The TIde (LP Version)</td>\n",
       "      <td>Sunsets &amp; Car Crashes</td>\n",
       "      <td>The Spill Canvas</td>\n",
       "      <td>2004</td>\n",
       "    </tr>\n",
       "    <tr>\n",
       "      <th>185487</th>\n",
       "      <td>2078b23380f2a80615fb9829621f7dc6cc6c7a82</td>\n",
       "      <td>SOZATBW12A8C146F06</td>\n",
       "      <td>1</td>\n",
       "      <td>J.Icaro</td>\n",
       "      <td>Otoño En Agosto</td>\n",
       "      <td>Niños Mutantes</td>\n",
       "      <td>2000</td>\n",
       "    </tr>\n",
       "  </tbody>\n",
       "</table>\n",
       "<p>185488 rows × 7 columns</p>\n",
       "</div>"
      ],
      "text/plain": [
       "                                         user_id             song_id  \\\n",
       "0       5a905f000fc1ff3df7ca807d57edb608863db05d  SOAFTRR12AF72A8D4D   \n",
       "1       a58de017cbeda1763ea002fe027ed41b4ed53109  SOAFTRR12AF72A8D4D   \n",
       "2       884209a41deb55df792f074bccf8af1c1c31768b  SOAFTRR12AF72A8D4D   \n",
       "3       c24ec42f0e449ff39a95a01f0795f833b898f71b  SOAFTRR12AF72A8D4D   \n",
       "4       1ee591a388274035a4fd8a4ae40a9589d320bb9d  SOAFTRR12AF72A8D4D   \n",
       "...                                          ...                 ...   \n",
       "185483  7bc672d87d7fb01c57eb9ce32bfea2e50619a7b6  SOAMFRD12AF72A84BD   \n",
       "185484  17847f9b51594b8ae2da8b72215e3588604e8390  SOPPHII12A6701F35D   \n",
       "185485  c65a346ab8f41fb56926b503ece810f358b0d241  SOLEMPP12A8AE4640B   \n",
       "185486  2078b23380f2a80615fb9829621f7dc6cc6c7a82  SOUZRZK12A8C13FF59   \n",
       "185487  2078b23380f2a80615fb9829621f7dc6cc6c7a82  SOZATBW12A8C146F06   \n",
       "\n",
       "        listen_count                              title  \\\n",
       "0                  1      Harder Better Faster Stronger   \n",
       "1                  3      Harder Better Faster Stronger   \n",
       "2                  1      Harder Better Faster Stronger   \n",
       "3                  1      Harder Better Faster Stronger   \n",
       "4                  1      Harder Better Faster Stronger   \n",
       "...              ...                                ...   \n",
       "185483             5                          Fireworks   \n",
       "185484             5  Untitled (Domestic Album Version)   \n",
       "185485             1      Halo (Explicit Album Version)   \n",
       "185486             1              The TIde (LP Version)   \n",
       "185487             1                            J.Icaro   \n",
       "\n",
       "                         release       artist_name  year  \n",
       "0                      Discovery         Daft Punk  2007  \n",
       "1                      Discovery         Daft Punk  2007  \n",
       "2                      Discovery         Daft Punk  2007  \n",
       "3                      Discovery         Daft Punk  2007  \n",
       "4                      Discovery         Daft Punk  2007  \n",
       "...                          ...               ...   ...  \n",
       "185483  All Things To All People     Carpark North  2005  \n",
       "185484     Still Not Getting Any       Simple Plan  2004  \n",
       "185485            The Blackening      Machine Head     0  \n",
       "185486     Sunsets & Car Crashes  The Spill Canvas  2004  \n",
       "185487           Otoño En Agosto    Niños Mutantes  2000  \n",
       "\n",
       "[185488 rows x 7 columns]"
      ]
     },
     "execution_count": 15,
     "metadata": {},
     "output_type": "execute_result"
    }
   ],
   "source": [
    "knnData = pd.merge(data, song_data)\n",
    "knnData"
   ]
  },
  {
   "cell_type": "markdown",
   "metadata": {},
   "source": [
    "## Popularity Recommender"
   ]
  },
  {
   "cell_type": "code",
   "execution_count": 16,
   "metadata": {},
   "outputs": [],
   "source": [
    "data_grouped = data.groupby(['song_id']).agg({'user_id': 'count'}).reset_index()\n",
    "data_grouped.rename(columns = {'user_id': 'score'},inplace=True)\n",
    "data_grouped = data_grouped.merge(song_data[['title','song_id']], on='song_id',how='left')\n",
    "data_sort = data_grouped.sort_values(['score', 'song_id'], ascending = [0,1])\n",
    "data_sort['Rank'] = data_sort['score'].rank(ascending=0, method='first')"
   ]
  },
  {
   "cell_type": "code",
   "execution_count": 17,
   "metadata": {},
   "outputs": [
    {
     "data": {
      "text/html": [
       "<div>\n",
       "<style scoped>\n",
       "    .dataframe tbody tr th:only-of-type {\n",
       "        vertical-align: middle;\n",
       "    }\n",
       "\n",
       "    .dataframe tbody tr th {\n",
       "        vertical-align: top;\n",
       "    }\n",
       "\n",
       "    .dataframe thead th {\n",
       "        text-align: right;\n",
       "    }\n",
       "</style>\n",
       "<table border=\"1\" class=\"dataframe\">\n",
       "  <thead>\n",
       "    <tr style=\"text-align: right;\">\n",
       "      <th></th>\n",
       "      <th>song_id</th>\n",
       "      <th>score</th>\n",
       "      <th>title</th>\n",
       "      <th>Rank</th>\n",
       "    </tr>\n",
       "  </thead>\n",
       "  <tbody>\n",
       "    <tr>\n",
       "      <th>353</th>\n",
       "      <td>SOAXGDH12A8C13F8A1</td>\n",
       "      <td>338</td>\n",
       "      <td>Dog Days Are Over (Radio Edit)</td>\n",
       "      <td>1.0</td>\n",
       "    </tr>\n",
       "    <tr>\n",
       "      <th>8621</th>\n",
       "      <td>SOWCKVR12A8C142411</td>\n",
       "      <td>313</td>\n",
       "      <td>Use Somebody</td>\n",
       "      <td>2.0</td>\n",
       "    </tr>\n",
       "    <tr>\n",
       "      <th>8622</th>\n",
       "      <td>SOWCKVR12A8C142411</td>\n",
       "      <td>313</td>\n",
       "      <td>Use Somebody</td>\n",
       "      <td>3.0</td>\n",
       "    </tr>\n",
       "    <tr>\n",
       "      <th>2238</th>\n",
       "      <td>SOFRQTD12A81C233C0</td>\n",
       "      <td>296</td>\n",
       "      <td>Sehr kosmisch</td>\n",
       "      <td>4.0</td>\n",
       "    </tr>\n",
       "    <tr>\n",
       "      <th>5565</th>\n",
       "      <td>SONYKOW12AB01849C9</td>\n",
       "      <td>271</td>\n",
       "      <td>Secrets</td>\n",
       "      <td>5.0</td>\n",
       "    </tr>\n",
       "    <tr>\n",
       "      <th>7447</th>\n",
       "      <td>SOSXLTC12AF72A7F54</td>\n",
       "      <td>271</td>\n",
       "      <td>Revelry</td>\n",
       "      <td>6.0</td>\n",
       "    </tr>\n",
       "    <tr>\n",
       "      <th>1126</th>\n",
       "      <td>SOCVTLJ12A6310F0FD</td>\n",
       "      <td>270</td>\n",
       "      <td>Clocks</td>\n",
       "      <td>7.0</td>\n",
       "    </tr>\n",
       "    <tr>\n",
       "      <th>706</th>\n",
       "      <td>SOBUBLL12A58A795A8</td>\n",
       "      <td>264</td>\n",
       "      <td>They Might Follow You</td>\n",
       "      <td>8.0</td>\n",
       "    </tr>\n",
       "    <tr>\n",
       "      <th>4178</th>\n",
       "      <td>SOKLRPJ12A8C13C3FE</td>\n",
       "      <td>263</td>\n",
       "      <td>The Scientist</td>\n",
       "      <td>9.0</td>\n",
       "    </tr>\n",
       "    <tr>\n",
       "      <th>6327</th>\n",
       "      <td>SOPXKYD12A6D4FA876</td>\n",
       "      <td>249</td>\n",
       "      <td>Yellow</td>\n",
       "      <td>10.0</td>\n",
       "    </tr>\n",
       "  </tbody>\n",
       "</table>\n",
       "</div>"
      ],
      "text/plain": [
       "                 song_id  score                           title  Rank\n",
       "353   SOAXGDH12A8C13F8A1    338  Dog Days Are Over (Radio Edit)   1.0\n",
       "8621  SOWCKVR12A8C142411    313                    Use Somebody   2.0\n",
       "8622  SOWCKVR12A8C142411    313                    Use Somebody   3.0\n",
       "2238  SOFRQTD12A81C233C0    296                   Sehr kosmisch   4.0\n",
       "5565  SONYKOW12AB01849C9    271                         Secrets   5.0\n",
       "7447  SOSXLTC12AF72A7F54    271                         Revelry   6.0\n",
       "1126  SOCVTLJ12A6310F0FD    270                          Clocks   7.0\n",
       "706   SOBUBLL12A58A795A8    264           They Might Follow You   8.0\n",
       "4178  SOKLRPJ12A8C13C3FE    263                   The Scientist   9.0\n",
       "6327  SOPXKYD12A6D4FA876    249                          Yellow  10.0"
      ]
     },
     "execution_count": 17,
     "metadata": {},
     "output_type": "execute_result"
    }
   ],
   "source": [
    "data_sort.head(10)# top 10 songs"
   ]
  },
  {
   "cell_type": "code",
   "execution_count": 18,
   "metadata": {},
   "outputs": [],
   "source": [
    "popularity_recommendations = data_sort.head(10)"
   ]
  },
  {
   "cell_type": "code",
   "execution_count": 19,
   "metadata": {},
   "outputs": [],
   "source": [
    " def recommend(user_id):    \n",
    "        user_recommendations = popularity_recommendations\n",
    "        \n",
    "        #Add user_id column for which the recommendations are being generated\n",
    "        user_recommendations['user_id'] = user_id\n",
    "    \n",
    "        #sorting to get user_id column to the front\n",
    "        cols = user_recommendations.columns.tolist()\n",
    "        cols = cols[-1:] + cols[:-1]\n",
    "        user_recommendations = user_recommendations[cols]\n",
    "        \n",
    "        return user_recommendations"
   ]
  },
  {
   "cell_type": "code",
   "execution_count": 20,
   "metadata": {},
   "outputs": [
    {
     "name": "stderr",
     "output_type": "stream",
     "text": [
      "C:\\Users\\IT\\anaconda3\\lib\\site-packages\\ipykernel_launcher.py:5: SettingWithCopyWarning: \n",
      "A value is trying to be set on a copy of a slice from a DataFrame.\n",
      "Try using .loc[row_indexer,col_indexer] = value instead\n",
      "\n",
      "See the caveats in the documentation: https://pandas.pydata.org/pandas-docs/stable/user_guide/indexing.html#returning-a-view-versus-a-copy\n",
      "  \"\"\"\n"
     ]
    },
    {
     "data": {
      "text/html": [
       "<div>\n",
       "<style scoped>\n",
       "    .dataframe tbody tr th:only-of-type {\n",
       "        vertical-align: middle;\n",
       "    }\n",
       "\n",
       "    .dataframe tbody tr th {\n",
       "        vertical-align: top;\n",
       "    }\n",
       "\n",
       "    .dataframe thead th {\n",
       "        text-align: right;\n",
       "    }\n",
       "</style>\n",
       "<table border=\"1\" class=\"dataframe\">\n",
       "  <thead>\n",
       "    <tr style=\"text-align: right;\">\n",
       "      <th></th>\n",
       "      <th>user_id</th>\n",
       "      <th>song_id</th>\n",
       "      <th>score</th>\n",
       "      <th>title</th>\n",
       "      <th>Rank</th>\n",
       "    </tr>\n",
       "  </thead>\n",
       "  <tbody>\n",
       "    <tr>\n",
       "      <th>353</th>\n",
       "      <td>5a905f000fc1ff3df7ca807d57edb608863db05d</td>\n",
       "      <td>SOAXGDH12A8C13F8A1</td>\n",
       "      <td>338</td>\n",
       "      <td>Dog Days Are Over (Radio Edit)</td>\n",
       "      <td>1.0</td>\n",
       "    </tr>\n",
       "    <tr>\n",
       "      <th>8621</th>\n",
       "      <td>5a905f000fc1ff3df7ca807d57edb608863db05d</td>\n",
       "      <td>SOWCKVR12A8C142411</td>\n",
       "      <td>313</td>\n",
       "      <td>Use Somebody</td>\n",
       "      <td>2.0</td>\n",
       "    </tr>\n",
       "    <tr>\n",
       "      <th>8622</th>\n",
       "      <td>5a905f000fc1ff3df7ca807d57edb608863db05d</td>\n",
       "      <td>SOWCKVR12A8C142411</td>\n",
       "      <td>313</td>\n",
       "      <td>Use Somebody</td>\n",
       "      <td>3.0</td>\n",
       "    </tr>\n",
       "    <tr>\n",
       "      <th>2238</th>\n",
       "      <td>5a905f000fc1ff3df7ca807d57edb608863db05d</td>\n",
       "      <td>SOFRQTD12A81C233C0</td>\n",
       "      <td>296</td>\n",
       "      <td>Sehr kosmisch</td>\n",
       "      <td>4.0</td>\n",
       "    </tr>\n",
       "    <tr>\n",
       "      <th>5565</th>\n",
       "      <td>5a905f000fc1ff3df7ca807d57edb608863db05d</td>\n",
       "      <td>SONYKOW12AB01849C9</td>\n",
       "      <td>271</td>\n",
       "      <td>Secrets</td>\n",
       "      <td>5.0</td>\n",
       "    </tr>\n",
       "    <tr>\n",
       "      <th>7447</th>\n",
       "      <td>5a905f000fc1ff3df7ca807d57edb608863db05d</td>\n",
       "      <td>SOSXLTC12AF72A7F54</td>\n",
       "      <td>271</td>\n",
       "      <td>Revelry</td>\n",
       "      <td>6.0</td>\n",
       "    </tr>\n",
       "    <tr>\n",
       "      <th>1126</th>\n",
       "      <td>5a905f000fc1ff3df7ca807d57edb608863db05d</td>\n",
       "      <td>SOCVTLJ12A6310F0FD</td>\n",
       "      <td>270</td>\n",
       "      <td>Clocks</td>\n",
       "      <td>7.0</td>\n",
       "    </tr>\n",
       "    <tr>\n",
       "      <th>706</th>\n",
       "      <td>5a905f000fc1ff3df7ca807d57edb608863db05d</td>\n",
       "      <td>SOBUBLL12A58A795A8</td>\n",
       "      <td>264</td>\n",
       "      <td>They Might Follow You</td>\n",
       "      <td>8.0</td>\n",
       "    </tr>\n",
       "    <tr>\n",
       "      <th>4178</th>\n",
       "      <td>5a905f000fc1ff3df7ca807d57edb608863db05d</td>\n",
       "      <td>SOKLRPJ12A8C13C3FE</td>\n",
       "      <td>263</td>\n",
       "      <td>The Scientist</td>\n",
       "      <td>9.0</td>\n",
       "    </tr>\n",
       "    <tr>\n",
       "      <th>6327</th>\n",
       "      <td>5a905f000fc1ff3df7ca807d57edb608863db05d</td>\n",
       "      <td>SOPXKYD12A6D4FA876</td>\n",
       "      <td>249</td>\n",
       "      <td>Yellow</td>\n",
       "      <td>10.0</td>\n",
       "    </tr>\n",
       "  </tbody>\n",
       "</table>\n",
       "</div>"
      ],
      "text/plain": [
       "                                       user_id             song_id  score  \\\n",
       "353   5a905f000fc1ff3df7ca807d57edb608863db05d  SOAXGDH12A8C13F8A1    338   \n",
       "8621  5a905f000fc1ff3df7ca807d57edb608863db05d  SOWCKVR12A8C142411    313   \n",
       "8622  5a905f000fc1ff3df7ca807d57edb608863db05d  SOWCKVR12A8C142411    313   \n",
       "2238  5a905f000fc1ff3df7ca807d57edb608863db05d  SOFRQTD12A81C233C0    296   \n",
       "5565  5a905f000fc1ff3df7ca807d57edb608863db05d  SONYKOW12AB01849C9    271   \n",
       "7447  5a905f000fc1ff3df7ca807d57edb608863db05d  SOSXLTC12AF72A7F54    271   \n",
       "1126  5a905f000fc1ff3df7ca807d57edb608863db05d  SOCVTLJ12A6310F0FD    270   \n",
       "706   5a905f000fc1ff3df7ca807d57edb608863db05d  SOBUBLL12A58A795A8    264   \n",
       "4178  5a905f000fc1ff3df7ca807d57edb608863db05d  SOKLRPJ12A8C13C3FE    263   \n",
       "6327  5a905f000fc1ff3df7ca807d57edb608863db05d  SOPXKYD12A6D4FA876    249   \n",
       "\n",
       "                               title  Rank  \n",
       "353   Dog Days Are Over (Radio Edit)   1.0  \n",
       "8621                    Use Somebody   2.0  \n",
       "8622                    Use Somebody   3.0  \n",
       "2238                   Sehr kosmisch   4.0  \n",
       "5565                         Secrets   5.0  \n",
       "7447                         Revelry   6.0  \n",
       "1126                          Clocks   7.0  \n",
       "706            They Might Follow You   8.0  \n",
       "4178                   The Scientist   9.0  \n",
       "6327                          Yellow  10.0  "
      ]
     },
     "execution_count": 20,
     "metadata": {},
     "output_type": "execute_result"
    }
   ],
   "source": [
    "recommend('5a905f000fc1ff3df7ca807d57edb608863db05d')"
   ]
  },
  {
   "cell_type": "markdown",
   "metadata": {},
   "source": [
    "## Collaborative Filtering"
   ]
  },
  {
   "cell_type": "code",
   "execution_count": 21,
   "metadata": {},
   "outputs": [],
   "source": [
    "## User User Colab"
   ]
  },
  {
   "cell_type": "code",
   "execution_count": 22,
   "metadata": {},
   "outputs": [
    {
     "data": {
      "text/plain": [
       "(854, 9916)"
      ]
     },
     "execution_count": 22,
     "metadata": {},
     "output_type": "execute_result"
    }
   ],
   "source": [
    "song_pivot=data.pivot(index='user_id',columns='song_id',values='listen_count')\n",
    "song_pivot=song_pivot.fillna(0)\n",
    "song_pivot.shape"
   ]
  },
  {
   "cell_type": "code",
   "execution_count": 23,
   "metadata": {},
   "outputs": [],
   "source": [
    "from sklearn.neighbors import NearestNeighbors\n",
    "knn=NearestNeighbors(n_neighbors=10,metric='cosine')\n",
    "model_user=knn.fit(song_pivot)"
   ]
  },
  {
   "cell_type": "code",
   "execution_count": 24,
   "metadata": {},
   "outputs": [
    {
     "data": {
      "text/plain": [
       "(array([[0.80918447, 0.87638443, 0.87934155, ..., 0.91236726, 0.92035184,\n",
       "         0.92205072],\n",
       "        [0.26036793, 0.28617322, 0.31086753, ..., 0.37312536, 0.37853978,\n",
       "         0.38985032],\n",
       "        [0.80453678, 0.81509306, 0.83192022, ..., 0.91728291, 0.91821372,\n",
       "         0.91874545],\n",
       "        ...,\n",
       "        [0.81137238, 0.8221961 , 0.86684152, ..., 0.92481812, 0.93040513,\n",
       "         0.9326671 ],\n",
       "        [0.8210625 , 0.82742355, 0.82974891, ..., 0.87713056, 0.8786731 ,\n",
       "         0.8808931 ],\n",
       "        [0.77012693, 0.80739402, 0.82222584, ..., 0.8964905 , 0.89715142,\n",
       "         0.90279844]]),\n",
       " array([[365, 653, 620, ..., 842, 406, 572],\n",
       "        [636, 276, 529, ..., 266, 132, 416],\n",
       "        [759, 847, 583, ..., 410, 396, 426],\n",
       "        ...,\n",
       "        [125,  58, 733, ...,  62, 794, 752],\n",
       "        [ 38, 288, 718, ..., 402, 148, 185],\n",
       "        [594, 102, 469, ..., 804, 445, 611]], dtype=int64))"
      ]
     },
     "execution_count": 24,
     "metadata": {},
     "output_type": "execute_result"
    }
   ],
   "source": [
    "model_user.kneighbors() #Returns indices of and distances to the neighbors of each point."
   ]
  },
  {
   "cell_type": "code",
   "execution_count": 25,
   "metadata": {},
   "outputs": [],
   "source": [
    "def user_user(model, matrix, data, search_index):\n",
    "    distances, indices = model.kneighbors([matrix.iloc[search_index, :]], n_neighbors = 10)\n",
    "    for i in range(0, len(distances.flatten())):\n",
    "        if i == 0:\n",
    "            print(\"Searching recommendation for user: \", matrix.index[search_index])\n",
    "        else:\n",
    "            rows = data.loc[data['user_id'] == matrix.index[indices.flatten()[i]] ]\n",
    "            data_user = pd.DataFrame(rows)\n",
    "            data_user['distance']= distances.flatten()[i]\n",
    "            return data_user"
   ]
  },
  {
   "cell_type": "code",
   "execution_count": 26,
   "metadata": {},
   "outputs": [
    {
     "data": {
      "text/plain": [
       "758"
      ]
     },
     "execution_count": 26,
     "metadata": {},
     "output_type": "execute_result"
    }
   ],
   "source": [
    "search_index = np.random.choice(song_pivot.shape[0])\n",
    "search_index #random_user"
   ]
  },
  {
   "cell_type": "code",
   "execution_count": 27,
   "metadata": {
    "scrolled": false
   },
   "outputs": [
    {
     "name": "stdout",
     "output_type": "stream",
     "text": [
      "Searching recommendation for user:  e3109d2ab81b2f3eab71cf0d992395a2d30b0d96\n"
     ]
    },
    {
     "data": {
      "text/html": [
       "<div>\n",
       "<style scoped>\n",
       "    .dataframe tbody tr th:only-of-type {\n",
       "        vertical-align: middle;\n",
       "    }\n",
       "\n",
       "    .dataframe tbody tr th {\n",
       "        vertical-align: top;\n",
       "    }\n",
       "\n",
       "    .dataframe thead th {\n",
       "        text-align: right;\n",
       "    }\n",
       "</style>\n",
       "<table border=\"1\" class=\"dataframe\">\n",
       "  <thead>\n",
       "    <tr style=\"text-align: right;\">\n",
       "      <th></th>\n",
       "      <th>user_id</th>\n",
       "      <th>song_id</th>\n",
       "      <th>listen_count</th>\n",
       "      <th>title</th>\n",
       "      <th>release</th>\n",
       "      <th>artist_name</th>\n",
       "      <th>year</th>\n",
       "      <th>distance</th>\n",
       "    </tr>\n",
       "  </thead>\n",
       "  <tbody>\n",
       "    <tr>\n",
       "      <th>252</th>\n",
       "      <td>a59172a6d20b0f970783b7ee8df9134fb563ccda</td>\n",
       "      <td>SOAJJDS12A8C13A3FB</td>\n",
       "      <td>1</td>\n",
       "      <td>I Got Mine</td>\n",
       "      <td>Attack &amp; Release</td>\n",
       "      <td>The Black Keys</td>\n",
       "      <td>2008</td>\n",
       "      <td>0.801122</td>\n",
       "    </tr>\n",
       "    <tr>\n",
       "      <th>1854</th>\n",
       "      <td>a59172a6d20b0f970783b7ee8df9134fb563ccda</td>\n",
       "      <td>SOCQQSU12AB0185BF4</td>\n",
       "      <td>1</td>\n",
       "      <td>Next Girl</td>\n",
       "      <td>Tighten Up</td>\n",
       "      <td>The Black Keys</td>\n",
       "      <td>2010</td>\n",
       "      <td>0.801122</td>\n",
       "    </tr>\n",
       "    <tr>\n",
       "      <th>2335</th>\n",
       "      <td>a59172a6d20b0f970783b7ee8df9134fb563ccda</td>\n",
       "      <td>SODEAJC12A58A7769F</td>\n",
       "      <td>1</td>\n",
       "      <td>O Samba E O Tango</td>\n",
       "      <td>Fina Estampa Ao Vivo</td>\n",
       "      <td>Caetano Veloso</td>\n",
       "      <td>1995</td>\n",
       "      <td>0.801122</td>\n",
       "    </tr>\n",
       "    <tr>\n",
       "      <th>2429</th>\n",
       "      <td>a59172a6d20b0f970783b7ee8df9134fb563ccda</td>\n",
       "      <td>SODEYDM12A58A77072</td>\n",
       "      <td>4</td>\n",
       "      <td>Lights &amp; Music</td>\n",
       "      <td>Lights &amp; Music</td>\n",
       "      <td>Cut Copy</td>\n",
       "      <td>2008</td>\n",
       "      <td>0.801122</td>\n",
       "    </tr>\n",
       "    <tr>\n",
       "      <th>3491</th>\n",
       "      <td>a59172a6d20b0f970783b7ee8df9134fb563ccda</td>\n",
       "      <td>SOETSTN12A81C219A9</td>\n",
       "      <td>1</td>\n",
       "      <td>Silent Shout</td>\n",
       "      <td>Silent Shout</td>\n",
       "      <td>The Knife</td>\n",
       "      <td>0</td>\n",
       "      <td>0.801122</td>\n",
       "    </tr>\n",
       "    <tr>\n",
       "      <th>...</th>\n",
       "      <td>...</td>\n",
       "      <td>...</td>\n",
       "      <td>...</td>\n",
       "      <td>...</td>\n",
       "      <td>...</td>\n",
       "      <td>...</td>\n",
       "      <td>...</td>\n",
       "      <td>...</td>\n",
       "    </tr>\n",
       "    <tr>\n",
       "      <th>184236</th>\n",
       "      <td>a59172a6d20b0f970783b7ee8df9134fb563ccda</td>\n",
       "      <td>SOKBOTR12A67ADE318</td>\n",
       "      <td>7</td>\n",
       "      <td>It's My Life</td>\n",
       "      <td>New Romantics</td>\n",
       "      <td>Talk Talk</td>\n",
       "      <td>1984</td>\n",
       "      <td>0.801122</td>\n",
       "    </tr>\n",
       "    <tr>\n",
       "      <th>184245</th>\n",
       "      <td>a59172a6d20b0f970783b7ee8df9134fb563ccda</td>\n",
       "      <td>SOWODBS12A67ADE31B</td>\n",
       "      <td>1</td>\n",
       "      <td>Life's What You Make It</td>\n",
       "      <td>Natural History - The Very Best Of Talk Talk</td>\n",
       "      <td>Talk Talk</td>\n",
       "      <td>1986</td>\n",
       "      <td>0.801122</td>\n",
       "    </tr>\n",
       "    <tr>\n",
       "      <th>184413</th>\n",
       "      <td>a59172a6d20b0f970783b7ee8df9134fb563ccda</td>\n",
       "      <td>SOIMTII12A6D4F662A</td>\n",
       "      <td>1</td>\n",
       "      <td>Reign Of The Tyrants</td>\n",
       "      <td>Decade Of The Nail-spiked Bat</td>\n",
       "      <td>Jag Panzer</td>\n",
       "      <td>1984</td>\n",
       "      <td>0.801122</td>\n",
       "    </tr>\n",
       "    <tr>\n",
       "      <th>185019</th>\n",
       "      <td>a59172a6d20b0f970783b7ee8df9134fb563ccda</td>\n",
       "      <td>SOEFHAF12A6D4FB311</td>\n",
       "      <td>1</td>\n",
       "      <td>Fistful of Love</td>\n",
       "      <td>The Lake</td>\n",
       "      <td>Antony &amp; The Johnsons</td>\n",
       "      <td>2004</td>\n",
       "      <td>0.801122</td>\n",
       "    </tr>\n",
       "    <tr>\n",
       "      <th>185022</th>\n",
       "      <td>a59172a6d20b0f970783b7ee8df9134fb563ccda</td>\n",
       "      <td>SOJWSGL12A81C217B0</td>\n",
       "      <td>2</td>\n",
       "      <td>You Are My Sister</td>\n",
       "      <td>You Are My Sister</td>\n",
       "      <td>Antony &amp; The Johnsons with Boy George</td>\n",
       "      <td>2004</td>\n",
       "      <td>0.801122</td>\n",
       "    </tr>\n",
       "  </tbody>\n",
       "</table>\n",
       "<p>278 rows × 8 columns</p>\n",
       "</div>"
      ],
      "text/plain": [
       "                                         user_id             song_id  \\\n",
       "252     a59172a6d20b0f970783b7ee8df9134fb563ccda  SOAJJDS12A8C13A3FB   \n",
       "1854    a59172a6d20b0f970783b7ee8df9134fb563ccda  SOCQQSU12AB0185BF4   \n",
       "2335    a59172a6d20b0f970783b7ee8df9134fb563ccda  SODEAJC12A58A7769F   \n",
       "2429    a59172a6d20b0f970783b7ee8df9134fb563ccda  SODEYDM12A58A77072   \n",
       "3491    a59172a6d20b0f970783b7ee8df9134fb563ccda  SOETSTN12A81C219A9   \n",
       "...                                          ...                 ...   \n",
       "184236  a59172a6d20b0f970783b7ee8df9134fb563ccda  SOKBOTR12A67ADE318   \n",
       "184245  a59172a6d20b0f970783b7ee8df9134fb563ccda  SOWODBS12A67ADE31B   \n",
       "184413  a59172a6d20b0f970783b7ee8df9134fb563ccda  SOIMTII12A6D4F662A   \n",
       "185019  a59172a6d20b0f970783b7ee8df9134fb563ccda  SOEFHAF12A6D4FB311   \n",
       "185022  a59172a6d20b0f970783b7ee8df9134fb563ccda  SOJWSGL12A81C217B0   \n",
       "\n",
       "        listen_count                    title  \\\n",
       "252                1               I Got Mine   \n",
       "1854               1                Next Girl   \n",
       "2335               1        O Samba E O Tango   \n",
       "2429               4           Lights & Music   \n",
       "3491               1             Silent Shout   \n",
       "...              ...                      ...   \n",
       "184236             7             It's My Life   \n",
       "184245             1  Life's What You Make It   \n",
       "184413             1     Reign Of The Tyrants   \n",
       "185019             1          Fistful of Love   \n",
       "185022             2        You Are My Sister   \n",
       "\n",
       "                                             release  \\\n",
       "252                                 Attack & Release   \n",
       "1854                                      Tighten Up   \n",
       "2335                            Fina Estampa Ao Vivo   \n",
       "2429                                  Lights & Music   \n",
       "3491                                    Silent Shout   \n",
       "...                                              ...   \n",
       "184236                                 New Romantics   \n",
       "184245  Natural History - The Very Best Of Talk Talk   \n",
       "184413                 Decade Of The Nail-spiked Bat   \n",
       "185019                                      The Lake   \n",
       "185022                             You Are My Sister   \n",
       "\n",
       "                                  artist_name  year  distance  \n",
       "252                            The Black Keys  2008  0.801122  \n",
       "1854                           The Black Keys  2010  0.801122  \n",
       "2335                           Caetano Veloso  1995  0.801122  \n",
       "2429                                 Cut Copy  2008  0.801122  \n",
       "3491                                The Knife     0  0.801122  \n",
       "...                                       ...   ...       ...  \n",
       "184236                              Talk Talk  1984  0.801122  \n",
       "184245                              Talk Talk  1986  0.801122  \n",
       "184413                             Jag Panzer  1984  0.801122  \n",
       "185019                  Antony & The Johnsons  2004  0.801122  \n",
       "185022  Antony & The Johnsons with Boy George  2004  0.801122  \n",
       "\n",
       "[278 rows x 8 columns]"
      ]
     },
     "execution_count": 27,
     "metadata": {},
     "output_type": "execute_result"
    }
   ],
   "source": [
    "user_user(model_user, song_pivot, knnData, search_index)"
   ]
  },
  {
   "cell_type": "code",
   "execution_count": 28,
   "metadata": {},
   "outputs": [],
   "source": [
    "# Item Item Colab"
   ]
  },
  {
   "cell_type": "code",
   "execution_count": 29,
   "metadata": {},
   "outputs": [],
   "source": [
    "sparse_matrix = data.pivot(index='song_id',columns='user_id',values='listen_count')\n",
    "sparse_matrix = sparse_matrix.fillna(0)"
   ]
  },
  {
   "cell_type": "code",
   "execution_count": 30,
   "metadata": {},
   "outputs": [],
   "source": [
    "from sklearn.neighbors import NearestNeighbors\n",
    "knn=NearestNeighbors(n_neighbors=10,metric='cosine')\n",
    "model_item=knn.fit(sparse_matrix)"
   ]
  },
  {
   "cell_type": "code",
   "execution_count": 31,
   "metadata": {},
   "outputs": [
    {
     "data": {
      "text/plain": [
       "(array([[0.01251614, 0.11471046, 0.11676758, ..., 0.23983457, 0.24627232,\n",
       "         0.30174346],\n",
       "        [0.37261875, 0.37431309, 0.5796809 , ..., 0.66925173, 0.68596689,\n",
       "         0.68898227],\n",
       "        [0.19417704, 0.3318469 , 0.34966752, ..., 0.52084258, 0.53119277,\n",
       "         0.5401455 ],\n",
       "        ...,\n",
       "        [0.46118409, 0.50813062, 0.5180684 , ..., 0.61899962, 0.61899962,\n",
       "         0.62161821],\n",
       "        [0.60206627, 0.60526903, 0.63244337, ..., 0.64892352, 0.65073752,\n",
       "         0.65093664],\n",
       "        [0.06392609, 0.11296811, 0.16600154, ..., 0.27997696, 0.29004771,\n",
       "         0.29684889]]),\n",
       " array([[4743, 8383, 1640, ..., 6292, 1355, 3884],\n",
       "        [4907, 2459, 3632, ..., 3733, 1079, 2809],\n",
       "        [3944, 3017, 3890, ..., 3726, 8020, 3972],\n",
       "        ...,\n",
       "        [6443, 7398, 5982, ..., 5643,  474, 3654],\n",
       "        [6761, 6479, 2983, ..., 6423, 1509, 7710],\n",
       "        [2338, 8534, 3990, ..., 8037, 9588, 6274]], dtype=int64))"
      ]
     },
     "execution_count": 31,
     "metadata": {},
     "output_type": "execute_result"
    }
   ],
   "source": [
    "model_item.kneighbors()"
   ]
  },
  {
   "cell_type": "code",
   "execution_count": 32,
   "metadata": {},
   "outputs": [],
   "source": [
    "def item_item(model, matrix, data, search_index):\n",
    "    distances, indices = model.kneighbors([matrix.iloc[search_index, :]], n_neighbors = 10)\n",
    "    for i in range(0, len(distances.flatten())):\n",
    "        if i == 0:\n",
    "            print(\"Searching recommendation for song: \", matrix.index[search_index])\n",
    "        else:\n",
    "            rows = data.loc[data['song_id'] == matrix.index[indices.flatten()[i]] ]\n",
    "            print(\" Recommendation\", i, \": \")\n",
    "            print(\"   Song: \", rows.title.values[0])  \n",
    "            print(\"   Artist: \",  rows.artist_name.values[0])\n",
    "            print(\"   Distance: \", distances.flatten()[i])"
   ]
  },
  {
   "cell_type": "code",
   "execution_count": 33,
   "metadata": {},
   "outputs": [
    {
     "name": "stdout",
     "output_type": "stream",
     "text": [
      "9594 SOZARJQ12A6D4F66CE\n"
     ]
    }
   ],
   "source": [
    "song_id ='SOZARJQ12A6D4F66CE'\n",
    "for i in range(0, sparse_matrix.shape[0]):\n",
    "    if song_id == sparse_matrix.index[i]:\n",
    "        print(i, sparse_matrix.index[i])\n",
    "        search_index=i"
   ]
  },
  {
   "cell_type": "code",
   "execution_count": 34,
   "metadata": {},
   "outputs": [
    {
     "data": {
      "text/plain": [
       "9594"
      ]
     },
     "execution_count": 34,
     "metadata": {},
     "output_type": "execute_result"
    }
   ],
   "source": [
    "search_index"
   ]
  },
  {
   "cell_type": "code",
   "execution_count": 35,
   "metadata": {
    "scrolled": false
   },
   "outputs": [
    {
     "name": "stdout",
     "output_type": "stream",
     "text": [
      "Searching recommendation for song:  SOZARJQ12A6D4F66CE\n",
      " Recommendation 1 : \n",
      "   Song:  Kids Of The Future\n",
      "   Artist:  Jonas Brothers\n",
      "   Distance:  0.3092954714547853\n",
      " Recommendation 2 : \n",
      "   Song:  Don't Leave Me\n",
      "   Artist:  The All-American Rejects\n",
      "   Distance:  0.3168535900660545\n",
      " Recommendation 3 : \n",
      "   Song:  When You Look Me In The Eyes\n",
      "   Artist:  Jonas Brothers\n",
      "   Distance:  0.321214414992408\n",
      " Recommendation 4 : \n",
      "   Song:  Goodbye\n",
      "   Artist:  Miley Cyrus\n",
      "   Distance:  0.3298715310118112\n",
      " Recommendation 5 : \n",
      "   Song:  Shelf\n",
      "   Artist:  Jonas Brothers\n",
      "   Distance:  0.33264640201594164\n",
      " Recommendation 6 : \n",
      "   Song:  Elevator\n",
      "   Artist:  The Pussycat Dolls\n",
      "   Distance:  0.3330804502263979\n",
      " Recommendation 7 : \n",
      "   Song:  Year 3000\n",
      "   Artist:  Jonas Brothers\n",
      "   Distance:  0.3410310682623292\n",
      " Recommendation 8 : \n",
      "   Song:  I'm Done\n",
      "   Artist:  The Pussycat Dolls\n",
      "   Distance:  0.35498939341902824\n",
      " Recommendation 9 : \n",
      "   Song:  One More Sad Song\n",
      "   Artist:  The All-American Rejects\n",
      "   Distance:  0.3596830564369352\n"
     ]
    }
   ],
   "source": [
    "item_item(model_item,sparse_matrix,knnData, search_index )"
   ]
  }
 ],
 "metadata": {
  "kernelspec": {
   "display_name": "Python 3",
   "language": "python",
   "name": "python3"
  },
  "language_info": {
   "codemirror_mode": {
    "name": "ipython",
    "version": 3
   },
   "file_extension": ".py",
   "mimetype": "text/x-python",
   "name": "python",
   "nbconvert_exporter": "python",
   "pygments_lexer": "ipython3",
   "version": "3.7.7"
  }
 },
 "nbformat": 4,
 "nbformat_minor": 1
}
